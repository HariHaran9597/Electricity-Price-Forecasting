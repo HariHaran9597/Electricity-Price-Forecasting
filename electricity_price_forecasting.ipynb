{
 "cells": [
  {
   "cell_type": "markdown",
   "metadata": {},
   "source": [
    "## Phase 4: Model Evaluation\n",
    "\n",
    "Now we'll evaluate the model's performance on the test set and visualize the results."
   ]
  },
  {
   "cell_type": "code",
   "execution_count": null,
   "metadata": {},
   "source": [
    "# Make predictions on test set\n",
    "y_pred = model.predict(X_test)\n",
    "\n",
    "# Inverse transform predictions and actual values\n",
    "y_test_reshaped = y_test.reshape(-1, 1)\n",
    "y_pred_reshaped = y_pred.reshape(-1, 1)\n",
    "\n",
    "# Create dummy array with same shape as input data\n",
    "dummy = np.zeros((len(y_test_reshaped), X_train.shape[2]))\n",
    "dummy[:, 0] = y_test_reshaped.flatten()\n",
    "y_test_inv = scaler.inverse_transform(dummy)[:, 0]\n",
    "\n",
    "dummy[:, 0] = y_pred_reshaped.flatten()\n",
    "y_pred_inv = scaler.inverse_transform(dummy)[:, 0]\n",
    "\n",
    "# Calculate metrics\n",
    "from sklearn.metrics import mean_absolute_error, mean_squared_error\n",
    "mae = mean_absolute_error(y_test_inv, y_pred_inv)\n",
    "rmse = np.sqrt(mean_squared_error(y_test_inv, y_pred_inv))\n",
    "\n",
    "print(f'Mean Absolute Error: ${mae:.2f}')\n",
    "print(f'Root Mean Squared Error: ${rmse:.2f}')"
   ]
  },
  {
   "cell_type": "code",
   "execution_count": null,
   "metadata": {},
   "source": [
    "def plot_predictions(y_true, y_pred, start_idx=0, n_hours=72):\n",
    "    plt.figure(figsize=(15, 6))\n",
    "    \n",
    "    # Plot actual vs predicted prices\n",
    "    plt.plot(y_true[start_idx:start_idx+n_hours], label='Actual', marker='o')\n",
    "    plt.plot(y_pred[start_idx:start_idx+n_hours], label='Predicted', marker='o')\n",
    "    \n",
    "    plt.title('Actual vs Predicted Electricity Prices')\n",
    "    plt.xlabel('Hours')\n",
    "    plt.ylabel('Price ($)')\n",
    "    plt.legend()\n",
    "    plt.grid(True)\n",
    "    \n",
    "    plt.tight_layout()\n",
    "    plt.show()\n",
    "\n",
    "# Plot predictions for a sample period\n",
    "plot_predictions(y_test_inv, y_pred_inv)\n",
    "\n",
    "# Plot prediction error distribution\n",
    "plt.figure(figsize=(10, 6))\n",
    "errors = y_test_inv - y_pred_inv\n",
    "sns.histplot(errors, kde=True)\n",
    "plt.title('Prediction Error Distribution')\n",
    "plt.xlabel('Error ($)')\n",
    "plt.ylabel('Count')\n",
    "plt.show()"
   ]
  },
  {
   "cell_type": "markdown",
   "metadata": {},
   "source": [
    "## Phase 5: Model Deployment\n",
    "\n",
    "Now we'll create a function to make predictions for the next 24 hours using the most recent data."
   ]
  },
  {
   "cell_type": "code",
   "execution_count": null,
   "metadata": {},
   "source": [
    "def predict_next_24_hours(model, recent_data, scaler):\n",
    "    # Ensure recent_data is scaled\n",
    "    scaled_data = scaler.transform(recent_data)\n",
    "    \n",
    "    # Reshape for prediction\n",
    "    X = scaled_data[-24:].reshape(1, 24, recent_data.shape[1])\n",
    "    \n",
    "    # Make prediction\n",
    "    pred_scaled = model.predict(X)\n",
    "    \n",
    "    # Inverse transform prediction\n",
    "    dummy = np.zeros((24, recent_data.shape[1]))\n",
    "    dummy[:, 0] = pred_scaled.flatten()\n",
    "    predictions = scaler.inverse_transform(dummy)[:, 0]\n",
    "    \n",
    "    return predictions\n",
    "\n",
    "# Get the most recent data\n",
    "recent_features = df_processed[features].values[-24:]\n",
    "\n",
    "# Make predictions\n",
    "next_24_hours = predict_next_24_hours(model, recent_features, scaler)\n",
    "\n",
    "# Plot predictions\n",
    "plt.figure(figsize=(12, 6))\n",
    "plt.plot(range(24), next_24_hours, marker='o')\n",
    "plt.title('24-Hour Price Forecast')\n",
    "plt.xlabel('Hour')\n",
    "plt.ylabel('Predicted Price ($)')\n",
    "plt.grid(True)\n",
    "plt.show()\n",
    "\n",
    "# Print hourly predictions\n",
    "print('\nHourly Price Predictions for Next 24 Hours:')\n",
    "for hour, price in enumerate(next_24_hours):\n",
    "    print(f'Hour {hour:2d}: ${price:.2f}')"
   ]
  }
 ],
 "metadata": {
  "language_info": {
   "name": "python"
  }
 },
 "nbformat": 4,
 "nbformat_minor": 2
}
